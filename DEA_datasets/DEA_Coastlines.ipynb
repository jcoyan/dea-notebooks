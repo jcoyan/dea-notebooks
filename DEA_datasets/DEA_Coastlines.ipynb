{
 "cells": [
  {
   "cell_type": "markdown",
   "metadata": {},
   "source": [
    "# Introduction to DEA Coastlines <img align=\"right\" src=\"https://github.com/GeoscienceAustralia/dea-notebooks/raw/develop/Supplementary_data/dea_logo.jpg\">\n",
    "\n",
    "* [**Sign up to the DEA Sandbox**](https://docs.dea.ga.gov.au/setup/sandbox.html) to run this notebook interactively from a browser\n",
    "* **Compatibility:** Notebook currently compatible with both the `NCI` and `DEA Sandbox` environments\n",
    "* **Products used:** [DEA Coastlines](https://cmi.ga.gov.au/data-products/dea/581/dea-coastlines)\n",
    "\n",
    "## Background\n",
    "Australia has a highly dynamic coastline of over 30,000 km, with over 85% of its population living within 50 km of the coast. \n",
    "This coastline is subject to a wide range of pressures, including extreme weather and climate, sea level rise and human development. \n",
    "Understanding how the coastline responds to these pressures is crucial to managing this region, from social, environmental and economic perspectives. \n",
    "\n",
    "### What this product offers\n",
    "[Digital Earth Australia Coastlines](https://maps.dea.ga.gov.au/#share=s-DEACoastlines&playStory=1) is a continental dataset that includes annual shorelines and rates of coastal change along the entire Australian coastline from 1988 to the present. \n",
    "\n",
    "The product combines satellite data from Geoscience Australia's Digital Earth Australia program with tidal modelling to map the typical location of the coastline at mean sea level for each year. \n",
    "The product enables trends of coastal erosion and growth to be examined annually at both a local and continental scale, and for patterns of coastal change to be mapped historically and updated regularly as data continues to be acquired. \n",
    "This allows current rates of coastal change to be compared with that observed in previous years or decades. \n",
    "\n",
    "The ability to map shoreline positions for each year provides valuable insights into whether changes to our coastline are the result of particular events or actions, or a process of more gradual change over time. \n",
    "This information can enable scientists, managers and policy makers to assess impacts from the range of drivers impacting our coastlines and potentially assist planning and forecasting for future scenarios. \n",
    "\n",
    "### Applications\n",
    "* Monitoring and mapping rates of coastal erosion along the Australian coastline \n",
    "* Prioritise and evaluate the impacts of local and regional coastal management based on historical coastline change \n",
    "* Modelling how coastlines respond to drivers of change, including extreme weather events, sea level rise or human development \n",
    "* Supporting geomorphological studies of how and why coastlines have changed across time \n",
    "\n",
    "### Publications\n",
    "* Bishop-Taylor, R., Sagar, S., Lymburner, L., Alam, I., & Sixsmith, J. (2019). Sub-pixel waterline extraction: Characterising accuracy and sensitivity to indices and spectra. *Remote Sensing*, 11(24), 2984. Available: https://www.mdpi.com/2072-4292/11/24/2984\n",
    "\n",
    "> **Note:** For more technical information about the DEA Coastlines product, visit the official Geoscience Australia [DEA Coastlines product description](https://cmi.ga.gov.au/data-products/dea/581/dea-coastlines).\n",
    "\n",
    "## Description\n",
    "\n",
    "This notebook will demonstrate how to load data from the [Digital Earth Australia Coastlines](https://cmi.ga.gov.au/data-products/dea/581/dea-coastlines) product using the Digital Earth Australia datacube. \n",
    "Topics covered include:\n",
    "\n",
    "1. Loading DEA Coastlines data in a Jupyter notebook or Python using the DEA Coastlines Web Feature Service (WFS)\n",
    "2. Interactively drawing a transect across DEA Coastlines annual coastlines and generating a plot of coastal change through time\n",
    "3. Interactively plotting the distribution of retreating and growing coastlines within a selected region\n",
    "\n",
    "***\n"
   ]
  },
  {
   "cell_type": "markdown",
   "metadata": {},
   "source": [
    "## Getting started\n",
    "\n",
    "To run this analysis, run all the cells in the notebook, starting with the \"Load packages\" cell."
   ]
  },
  {
   "cell_type": "markdown",
   "metadata": {},
   "source": [
    "### Load packages"
   ]
  },
  {
   "cell_type": "code",
   "execution_count": 1,
   "metadata": {},
   "outputs": [],
   "source": [
    "import geopandas as gpd\n",
    "import matplotlib.pyplot as plt\n",
    "from dea_tools.coastal import deacoastlines_transect, deacoastlines_histogram"
   ]
  },
  {
   "cell_type": "markdown",
   "metadata": {},
   "source": [
    "## Loading DEA Coastlines data using Web Feature Service (WFS)\n",
    "\n",
    "DEA Coastlines data can be loaded directly in a Python script or Jupyter Notebook using the DEA Coastlines Web Feature Service (WFS) and `geopandas`:\n"
   ]
  },
  {
   "cell_type": "code",
   "execution_count": 2,
   "metadata": {},
   "outputs": [
    {
     "data": {
      "text/html": [
       "<div>\n",
       "<style scoped>\n",
       "    .dataframe tbody tr th:only-of-type {\n",
       "        vertical-align: middle;\n",
       "    }\n",
       "\n",
       "    .dataframe tbody tr th {\n",
       "        vertical-align: top;\n",
       "    }\n",
       "\n",
       "    .dataframe thead th {\n",
       "        text-align: right;\n",
       "    }\n",
       "</style>\n",
       "<table border=\"1\" class=\"dataframe\">\n",
       "  <thead>\n",
       "    <tr style=\"text-align: right;\">\n",
       "      <th></th>\n",
       "      <th>gml_id</th>\n",
       "      <th>year</th>\n",
       "      <th>certainty</th>\n",
       "      <th>geometry</th>\n",
       "    </tr>\n",
       "  </thead>\n",
       "  <tbody>\n",
       "    <tr>\n",
       "      <th>0</th>\n",
       "      <td>coastlines.633</td>\n",
       "      <td>1988</td>\n",
       "      <td>good</td>\n",
       "      <td>MULTILINESTRING ((-1515201.261 -3750001.375, -...</td>\n",
       "    </tr>\n",
       "    <tr>\n",
       "      <th>1</th>\n",
       "      <td>coastlines.634</td>\n",
       "      <td>1989</td>\n",
       "      <td>good</td>\n",
       "      <td>MULTILINESTRING ((-1515192.442 -3750001.375, -...</td>\n",
       "    </tr>\n",
       "    <tr>\n",
       "      <th>2</th>\n",
       "      <td>coastlines.635</td>\n",
       "      <td>1990</td>\n",
       "      <td>good</td>\n",
       "      <td>MULTILINESTRING ((-1515201.862 -3750001.375, -...</td>\n",
       "    </tr>\n",
       "    <tr>\n",
       "      <th>3</th>\n",
       "      <td>coastlines.636</td>\n",
       "      <td>1991</td>\n",
       "      <td>good</td>\n",
       "      <td>MULTILINESTRING ((-1515211.079 -3750001.375, -...</td>\n",
       "    </tr>\n",
       "    <tr>\n",
       "      <th>4</th>\n",
       "      <td>coastlines.637</td>\n",
       "      <td>1992</td>\n",
       "      <td>good</td>\n",
       "      <td>MULTILINESTRING ((-1515205.461 -3750001.375, -...</td>\n",
       "    </tr>\n",
       "  </tbody>\n",
       "</table>\n",
       "</div>"
      ],
      "text/plain": [
       "           gml_id  year certainty  \\\n",
       "0  coastlines.633  1988      good   \n",
       "1  coastlines.634  1989      good   \n",
       "2  coastlines.635  1990      good   \n",
       "3  coastlines.636  1991      good   \n",
       "4  coastlines.637  1992      good   \n",
       "\n",
       "                                            geometry  \n",
       "0  MULTILINESTRING ((-1515201.261 -3750001.375, -...  \n",
       "1  MULTILINESTRING ((-1515192.442 -3750001.375, -...  \n",
       "2  MULTILINESTRING ((-1515201.862 -3750001.375, -...  \n",
       "3  MULTILINESTRING ((-1515211.079 -3750001.375, -...  \n",
       "4  MULTILINESTRING ((-1515205.461 -3750001.375, -...  "
      ]
     },
     "execution_count": 2,
     "metadata": {},
     "output_type": "execute_result"
    }
   ],
   "source": [
    "# Specify bounding box\n",
    "ymax, xmin = -33.65, 115.28\n",
    "ymin, xmax = -33.66, 115.30\n",
    "\n",
    "# Set up WFS requests for annual coastlines & rates of change statistics\n",
    "deacl_coastlines_wfs = f'https://geoserver.dea.ga.gov.au/geoserver/wfs?' \\\n",
    "                       f'service=WFS&version=1.1.0&request=GetFeature' \\\n",
    "                       f'&typeName=dea:coastlines&maxFeatures=1000' \\\n",
    "                       f'&bbox={ymin},{xmin},{ymax},{xmax},' \\\n",
    "                       f'urn:ogc:def:crs:EPSG:4326'\n",
    "deacl_statistics_wfs = f'https://geoserver.dea.ga.gov.au/geoserver/wfs?' \\\n",
    "                       f'service=WFS&version=1.1.0&request=GetFeature' \\\n",
    "                       f'&typeName=dea:coastlines_statistics&maxFeatures=1000' \\\n",
    "                       f'&bbox={ymin},{xmin},{ymax},{xmax},' \\\n",
    "                       f'urn:ogc:def:crs:EPSG:4326'\n",
    "\n",
    "# Load DEA Coastlines data from WFS using geopandas\n",
    "deacl_coastlines_gdf = gpd.read_file(deacl_coastlines_wfs)\n",
    "deacl_statistics_gdf = gpd.read_file(deacl_statistics_wfs)\n",
    "\n",
    "# Ensure CRSs are set correctly\n",
    "deacl_coastlines_gdf.crs = 'EPSG:3577'\n",
    "deacl_statistics_gdf.crs = 'EPSG:3577'\n",
    "\n",
    "# Print example output\n",
    "deacl_coastlines_gdf.head()"
   ]
  },
  {
   "cell_type": "markdown",
   "metadata": {},
   "source": [
    "We can now plot the DEA Coastlines annual coastlines data using `geopandas`. \n",
    "Annual coastlines represent the median or 'typical' position of the coastline at approximately mean sea level tide (0 m AHD) for each year from 1988 to 2019.\n",
    "Light-coloured lines (e.g. yellow) in the plot below represent recent coastlines (e.g. 2019), while dark-coloured lines represent older coastlines (e.g. 1988).\n",
    "\n",
    "> **Note:** For more detail about DEA Coastlines annual coastline data, refer to the official Geoscience Australia [DEA Coastlines product description](https://cmi.ga.gov.au/data-products/dea/581/dea-coastlines#details)."
   ]
  },
  {
   "cell_type": "code",
   "execution_count": 3,
   "metadata": {},
   "outputs": [
    {
     "data": {
      "text/plain": [
       "(-3773088.19558847, -3772680.47526)"
      ]
     },
     "execution_count": 3,
     "metadata": {},
     "output_type": "execute_result"
    },
    {
     "data": {
      "image/png": "[encoded data removed]",
      "text/plain": [
       "<Figure size 1152x252 with 2 Axes>"
      ]
     },
     "metadata": {
      "needs_background": "light"
     },
     "output_type": "display_data"
    }
   ],
   "source": [
    "# Set year data to integers to allow plotting with a simple colourbar\n",
    "fig, ax = plt.subplots(figsize=(16, 3.5))\n",
    "deacl_coastlines_gdf['year'] = deacl_coastlines_gdf.year.astype(int)\n",
    "deacl_coastlines_gdf.plot(ax=ax, column='year', \n",
    "                          cmap='inferno', \n",
    "                          legend=True,\n",
    "                          legend_kwds={'label': 'Annual coastline'})\n",
    "\n",
    "# Set plot limits to extent of statistics points\n",
    "bounds = deacl_statistics_gdf.geometry.total_bounds\n",
    "ax.set_xlim(bounds[[0, 2]])\n",
    "ax.set_ylim(bounds[[1, 3]])"
   ]
  },
  {
   "cell_type": "markdown",
   "metadata": {},
   "source": [
    "We can also plot the DEA Coastlines rates of change statistics points.\n",
    "These points provide robust rates of annual coastal change (in metres per year) for every 30 m along Australia's non-rocky (clastic) coastlines. \n",
    "These rates are calculated by linearly regressing annual coastline distances against time, using the most recent 2019 coastline as a baseline.\n",
    "\n",
    "Negative values (red points) indicate retreat (e.g. erosion), and positive values indicate growth (e.g. progradation) over time.\n",
    "By default, rates of change are shown for points with a statistically significant trend over time only.\n",
    "\n",
    "> **Note:** For more detail about DEA Coastlines rates of change statistics data, refer to the official Geoscience Australia [DEA Coastlines product description](https://cmi.ga.gov.au/data-products/dea/581/dea-coastlines#details).\n",
    "\n"
   ]
  },
  {
   "cell_type": "code",
   "execution_count": 4,
   "metadata": {},
   "outputs": [
    {
     "data": {
      "image/png": "[encoded data removed]",
      "text/plain": [
       "<Figure size 1152x252 with 2 Axes>"
      ]
     },
     "metadata": {
      "needs_background": "light"
     },
     "output_type": "display_data"
    }
   ],
   "source": [
    "# Filter points to statistically significant results only\n",
    "deacl_statistics_gdf = deacl_statistics_gdf.loc[\n",
    "    deacl_statistics_gdf.sig_time < 0.01]\n",
    "\n",
    "# Plot data\n",
    "fig, ax = plt.subplots(figsize=(16, 3.5))\n",
    "deacl_statistics_gdf.plot(\n",
    "    ax=ax,\n",
    "    column='rate_time',\n",
    "    cmap='RdBu',\n",
    "    vmin=-3,\n",
    "    vmax=3,\n",
    "    legend=True,\n",
    "    legend_kwds={'label': 'Rate of change (metres / year)'})\n",
    "ax.set_title('Rate of change statistics points');"
   ]
  },
  {
   "cell_type": "markdown",
   "metadata": {},
   "source": [
    "The DEA Coastlines rates of change statistics points data also provides many additional statistics that give insights into coastal change in Australia.\n",
    "For a full description of each of these statistics, refer to the Rates of change statistics section of the official Geoscience Australia [DEA Coastlines product description](https://cmi.ga.gov.au/data-products/dea/581/dea-coastlines#details)."
   ]
  },
  {
   "cell_type": "code",
   "execution_count": 5,
   "metadata": {},
   "outputs": [
    {
     "data": {
      "text/html": [
       "<div>\n",
       "<style scoped>\n",
       "    .dataframe tbody tr th:only-of-type {\n",
       "        vertical-align: middle;\n",
       "    }\n",
       "\n",
       "    .dataframe tbody tr th {\n",
       "        vertical-align: top;\n",
       "    }\n",
       "\n",
       "    .dataframe thead th {\n",
       "        text-align: right;\n",
       "    }\n",
       "</style>\n",
       "<table border=\"1\" class=\"dataframe\">\n",
       "  <thead>\n",
       "    <tr style=\"text-align: right;\">\n",
       "      <th></th>\n",
       "      <th>gml_id</th>\n",
       "      <th>rate_time</th>\n",
       "      <th>sig_time</th>\n",
       "      <th>se_time</th>\n",
       "      <th>outl_time</th>\n",
       "      <th>rate_soi</th>\n",
       "      <th>sig_soi</th>\n",
       "      <th>se_soi</th>\n",
       "      <th>outl_soi</th>\n",
       "      <th>dist_1988</th>\n",
       "      <th>...</th>\n",
       "      <th>growth</th>\n",
       "      <th>sce</th>\n",
       "      <th>nsm</th>\n",
       "      <th>max_year</th>\n",
       "      <th>min_year</th>\n",
       "      <th>breaks</th>\n",
       "      <th>abs_time</th>\n",
       "      <th>conf_time</th>\n",
       "      <th>conf_soi</th>\n",
       "      <th>geometry</th>\n",
       "    </tr>\n",
       "  </thead>\n",
       "  <tbody>\n",
       "    <tr>\n",
       "      <th>0</th>\n",
       "      <td>coastlines_statistics.44817</td>\n",
       "      <td>1.78</td>\n",
       "      <td>0.0</td>\n",
       "      <td>0.08</td>\n",
       "      <td>None</td>\n",
       "      <td>2.63</td>\n",
       "      <td>0.540</td>\n",
       "      <td>4.25</td>\n",
       "      <td>None</td>\n",
       "      <td>-54.43</td>\n",
       "      <td>...</td>\n",
       "      <td>1.0</td>\n",
       "      <td>57.12</td>\n",
       "      <td>54.43</td>\n",
       "      <td>2018.0</td>\n",
       "      <td>1990.0</td>\n",
       "      <td>1997</td>\n",
       "      <td>1.78</td>\n",
       "      <td>0.16</td>\n",
       "      <td>8.33</td>\n",
       "      <td>MULTIPOINT (-1535416.612 -3772680.475)</td>\n",
       "    </tr>\n",
       "    <tr>\n",
       "      <th>1</th>\n",
       "      <td>coastlines_statistics.44818</td>\n",
       "      <td>2.01</td>\n",
       "      <td>0.0</td>\n",
       "      <td>0.08</td>\n",
       "      <td>None</td>\n",
       "      <td>3.16</td>\n",
       "      <td>0.510</td>\n",
       "      <td>4.74</td>\n",
       "      <td>None</td>\n",
       "      <td>-57.21</td>\n",
       "      <td>...</td>\n",
       "      <td>1.0</td>\n",
       "      <td>60.47</td>\n",
       "      <td>57.21</td>\n",
       "      <td>2018.0</td>\n",
       "      <td>1990.0</td>\n",
       "      <td>1998</td>\n",
       "      <td>2.01</td>\n",
       "      <td>0.16</td>\n",
       "      <td>9.29</td>\n",
       "      <td>MULTIPOINT (-1535446.354 -3772682.707)</td>\n",
       "    </tr>\n",
       "    <tr>\n",
       "      <th>2</th>\n",
       "      <td>coastlines_statistics.44819</td>\n",
       "      <td>2.16</td>\n",
       "      <td>0.0</td>\n",
       "      <td>0.08</td>\n",
       "      <td>None</td>\n",
       "      <td>3.60</td>\n",
       "      <td>0.483</td>\n",
       "      <td>5.07</td>\n",
       "      <td>None</td>\n",
       "      <td>-60.24</td>\n",
       "      <td>...</td>\n",
       "      <td>1.0</td>\n",
       "      <td>61.32</td>\n",
       "      <td>60.24</td>\n",
       "      <td>2018.0</td>\n",
       "      <td>1990.0</td>\n",
       "      <td>1999</td>\n",
       "      <td>2.16</td>\n",
       "      <td>0.16</td>\n",
       "      <td>9.94</td>\n",
       "      <td>MULTIPOINT (-1535476.042 -3772685.555)</td>\n",
       "    </tr>\n",
       "    <tr>\n",
       "      <th>3</th>\n",
       "      <td>coastlines_statistics.44820</td>\n",
       "      <td>2.19</td>\n",
       "      <td>0.0</td>\n",
       "      <td>0.09</td>\n",
       "      <td>None</td>\n",
       "      <td>4.12</td>\n",
       "      <td>0.429</td>\n",
       "      <td>5.14</td>\n",
       "      <td>None</td>\n",
       "      <td>-60.83</td>\n",
       "      <td>...</td>\n",
       "      <td>1.0</td>\n",
       "      <td>60.96</td>\n",
       "      <td>60.83</td>\n",
       "      <td>2018.0</td>\n",
       "      <td>1990.0</td>\n",
       "      <td>2001</td>\n",
       "      <td>2.19</td>\n",
       "      <td>0.18</td>\n",
       "      <td>10.07</td>\n",
       "      <td>MULTIPOINT (-1535505.740 -3772688.301)</td>\n",
       "    </tr>\n",
       "    <tr>\n",
       "      <th>4</th>\n",
       "      <td>coastlines_statistics.44821</td>\n",
       "      <td>2.15</td>\n",
       "      <td>0.0</td>\n",
       "      <td>0.11</td>\n",
       "      <td>None</td>\n",
       "      <td>4.47</td>\n",
       "      <td>0.389</td>\n",
       "      <td>5.11</td>\n",
       "      <td>None</td>\n",
       "      <td>-57.09</td>\n",
       "      <td>...</td>\n",
       "      <td>1.0</td>\n",
       "      <td>60.42</td>\n",
       "      <td>57.09</td>\n",
       "      <td>2015.0</td>\n",
       "      <td>1990.0</td>\n",
       "      <td>2001</td>\n",
       "      <td>2.15</td>\n",
       "      <td>0.22</td>\n",
       "      <td>10.02</td>\n",
       "      <td>MULTIPOINT (-1535535.252 -3772692.541)</td>\n",
       "    </tr>\n",
       "  </tbody>\n",
       "</table>\n",
       "<p>5 rows × 52 columns</p>\n",
       "</div>"
      ],
      "text/plain": [
       "                        gml_id  rate_time  sig_time  se_time outl_time  \\\n",
       "0  coastlines_statistics.44817       1.78       0.0     0.08      None   \n",
       "1  coastlines_statistics.44818       2.01       0.0     0.08      None   \n",
       "2  coastlines_statistics.44819       2.16       0.0     0.08      None   \n",
       "3  coastlines_statistics.44820       2.19       0.0     0.09      None   \n",
       "4  coastlines_statistics.44821       2.15       0.0     0.11      None   \n",
       "\n",
       "   rate_soi  sig_soi  se_soi outl_soi  dist_1988  ...  growth    sce    nsm  \\\n",
       "0      2.63    0.540    4.25     None     -54.43  ...     1.0  57.12  54.43   \n",
       "1      3.16    0.510    4.74     None     -57.21  ...     1.0  60.47  57.21   \n",
       "2      3.60    0.483    5.07     None     -60.24  ...     1.0  61.32  60.24   \n",
       "3      4.12    0.429    5.14     None     -60.83  ...     1.0  60.96  60.83   \n",
       "4      4.47    0.389    5.11     None     -57.09  ...     1.0  60.42  57.09   \n",
       "\n",
       "   max_year  min_year  breaks  abs_time  conf_time  conf_soi  \\\n",
       "0    2018.0    1990.0    1997      1.78       0.16      8.33   \n",
       "1    2018.0    1990.0    1998      2.01       0.16      9.29   \n",
       "2    2018.0    1990.0    1999      2.16       0.16      9.94   \n",
       "3    2018.0    1990.0    2001      2.19       0.18     10.07   \n",
       "4    2015.0    1990.0    2001      2.15       0.22     10.02   \n",
       "\n",
       "                                 geometry  \n",
       "0  MULTIPOINT (-1535416.612 -3772680.475)  \n",
       "1  MULTIPOINT (-1535446.354 -3772682.707)  \n",
       "2  MULTIPOINT (-1535476.042 -3772685.555)  \n",
       "3  MULTIPOINT (-1535505.740 -3772688.301)  \n",
       "4  MULTIPOINT (-1535535.252 -3772692.541)  \n",
       "\n",
       "[5 rows x 52 columns]"
      ]
     },
     "execution_count": 5,
     "metadata": {},
     "output_type": "execute_result"
    }
   ],
   "source": [
    "deacl_statistics_gdf.head()"
   ]
  },
  {
   "cell_type": "markdown",
   "metadata": {},
   "source": [
    "### Exporting DEA Coastlines data as vector files\n",
    "We can easily export the loaded data as spatial vector files (e.g. ESRI Shapefiles or GeoJSON) so that they can be analysed further in GIS software:"
   ]
  },
  {
   "cell_type": "code",
   "execution_count": 6,
   "metadata": {},
   "outputs": [],
   "source": [
    "deacl_coastlines_gdf.to_file('deacoastlines_coastlines.shp')\n",
    "deacl_statistics_gdf.to_file('deacoastlines_statistics.shp')"
   ]
  },
  {
   "cell_type": "markdown",
   "metadata": {},
   "source": [
    "## DEA Coastlines analysis tools\n",
    "\n",
    "The following sections provide useful tools for analysing DEA Coastlines data directly within a Jupyter Notebook without needing to load the data into GIS software.\n",
    "All outputs from the tools below will be saved to a new folder in this directory called `deacoastlines_outputs`.\n",
    "\n",
    "### Interactive profile selection\n",
    "This tool allows you to interactively draw a transect over DEA Coastlines annual shoreline data, and get back a table and graph showing how shoreline positions have changed over time.\n",
    "To use the tool:\n",
    "\n",
    "1. Run the cell below; an interactive map will appear \n",
    "2. Zoom in and use the `Draw a polyline` tool on the left to draw a transect so that it crosses through a set of coastlines (transects are limited to 50 km in length). \n",
    "For example:\n",
    "\n",
    "![Transect example](../Supplementary_data/DEA_Coastlines/deacoastlines_transect.jpg)\n",
    "\n",
    "3. Press `Finish` when you are happy with the line, then click `Done` in the top right\n",
    "4. A graph will appear below the map showing distances along the transect to each annual coastline (distances will be measured from the start of the transect line you drew above)\n",
    "\n",
    "> **Optional:** Set `transect_mode='width'` and re-run the cell below to measure the width between two adjacent sets of coastlines (e.g. across the next of a tombolo or sandbar)\n",
    "\n",
    "> **Optional:** By default, this tool will export a set of output datasets and figures into a new folder in this directory called `deacoastlines_outputs` unless the `export_*` parameters below are set to `False`. These outputs include:\n",
    "> * `export_transect_data`: A CSV file containing the data (i.e. years and distances) extracted for the transect\n",
    "> * `export_transect`: Vector files in ESRI Shapefile and GeoJSON format for the transect line feature\n",
    "> * `export_figure`: A PNG image file for the transect figure generated by the tool"
   ]
  },
  {
   "cell_type": "code",
   "execution_count": 7,
   "metadata": {},
   "outputs": [
    {
     "data": {
      "application/vnd.jupyter.widget-view+json": {
       "model_id": "67c16bc1008d4a9daed4be51ebff76ac",
       "version_major": 2,
       "version_minor": 0
      },
      "text/plain": [
       "Map(center=[-26, 135], controls=(ZoomControl(options=['position', 'zoom_in_text', 'zoom_in_title', 'zoom_out_t…"
      ]
     },
     "metadata": {},
     "output_type": "display_data"
    },
    {
     "name": "stdout",
     "output_type": "stream",
     "text": [
      "Loading DEA Coastlines data...\n",
      "\n",
      "Exporting transect data to:\n",
      "    deacoastlines_outputs/deacoastlines_transect_153.366_-29.364.csv\n",
      "\n",
      "Exporting transect vectors to:\n",
      "    deacoastlines_outputs/deacoastlines_transect_153.366_-29.364.shp\n",
      "    deacoastlines_outputs/deacoastlines_transect_153.366_-29.364.geojson\n",
      "\n",
      "Exporting transect figure to:\n",
      "    deacoastlines_outputs/deacoastlines_transect_153.366_-29.364.png\n",
      "\n"
     ]
    },
    {
     "data": {
      "image/png": "[encoded data removed]",
      "text/plain": [
       "<Figure size 360x576 with 1 Axes>"
      ]
     },
     "metadata": {
      "needs_background": "light"
     },
     "output_type": "display_data"
    }
   ],
   "source": [
    "df = deacoastlines_transect(transect_mode='distance',\n",
    "                            export_transect_data=True,\n",
    "                            export_transect=True,\n",
    "                            export_figure=True)\n"
   ]
  },
  {
   "cell_type": "markdown",
   "metadata": {},
   "source": [
    "The resulting figure shows how coastlines have moved over time relative to the starting point of the transect.\n",
    "Time is shown on the y-axis, while distance along the transect (or width if using `transect_mode='width'`) is shown on the x-axis. "
   ]
  },
  {
   "cell_type": "markdown",
   "metadata": {},
   "source": [
    "### Statistics point histogram analysis\n",
    "This tool allows you to draw a polygon or rectangle around DEA Coastlines rates of change statistics points, and get back a histogram showing the distribution of growing or retreating points.\n",
    "To use the tool:\n",
    "\n",
    "1. Run the cell below; an interactive map will appear \n",
    "2. Use the `Draw a polygon` or `Draw a rectangle` tools on the left to select a region (regions are limited to an area of `100,000 sq km`).\n",
    "For example:\n",
    "\n",
    "![Histogram selection example](../Supplementary_data/DEA_Coastlines/deacoastlines_histogram.jpg)\n",
    "\n",
    "3. Press `Done` in the top right when ready\n",
    "4. A histogram plot will appear below the map\n",
    "\n",
    "> **Optional:** Instead of using the interactive map, supply a path to a vector file using the `extent_path` parameter (e.g. `extent_path='study_area.shp`). \n",
    "If this option is selected, you can also supply a column name in the dataset to `extent_id_col` which will be used to name the output files (e.g. `extent_id_col='compartment_id'`).\n",
    "To revert to the interactive map, set `extent_path=None`.\n",
    "\n",
    "> **Optional:** Set `hist_log=True` and re-run the cell below to generate a log-scale histogram plot\n",
    "\n",
    "> **Optional:** By default, this tool will export a set of output datasets and figures into a new folder in this directory called `deacoastlines_outputs` unless the `export_*` parameters below are set to `False`. These outputs include:\n",
    "> * `export_points_data`: A CSV file containing raw data for all DEA Coastlines rates of change statistics points in the selected extent\n",
    "> * `export_summary_data`: A CSV file containing summary statistics for all rates of change statistics points in the selected extent\n",
    "> * `export_extent`: Vector files in ESRI Shapefile and GeoJSON format giving the selected area extent\n",
    "> * `export_figure`: A PNG image file for the histogram figure generated by the tool\n",
    "   \n",
    "\n",
    "\n"
   ]
  },
  {
   "cell_type": "code",
   "execution_count": 8,
   "metadata": {},
   "outputs": [
    {
     "data": {
      "application/vnd.jupyter.widget-view+json": {
       "model_id": "e98d86484b5d4b04820ff5dffaeb093e",
       "version_major": 2,
       "version_minor": 0
      },
      "text/plain": [
       "Map(center=[-26, 135], controls=(ZoomControl(options=['position', 'zoom_in_text', 'zoom_in_title', 'zoom_out_t…"
      ]
     },
     "metadata": {},
     "output_type": "display_data"
    },
    {
     "name": "stdout",
     "output_type": "stream",
     "text": [
      "Loading DEA Coastlines data for 152.683_-31.945...\n",
      "    Plotting data with log axis after setting non-significant points to 0 m / year\n",
      "\n",
      "Exporting extent vectors to:\n",
      "    deacoastlines_outputs/deacoastlines_polygon_152.683_-31.945.shp\n",
      "    deacoastlines_outputs/deacoastlines_polygon_152.683_-31.945.geojson\n",
      "\n",
      "Exporting histogram figure to:\n",
      "    deacoastlines_outputs/deacoastlines_polygon_152.683_-31.945.png\n",
      "\n",
      "Exporting points data to:\n",
      "    deacoastlines_outputs/deacoastlines_polygon_152.683_-31.945.csv\n",
      "\n",
      "Exporting summary data to:\n",
      "    deacoastlines_outputs/deacoastlines_polygon_summary.csv\n",
      "\n"
     ]
    },
    {
     "data": {
      "image/png": "[encoded data removed]",
      "text/plain": [
       "<Figure size 720x576 with 1 Axes>"
      ]
     },
     "metadata": {
      "needs_background": "light"
     },
     "output_type": "display_data"
    }
   ],
   "source": [
    "df = deacoastlines_histogram(extent_path=None,\n",
    "                             extent_id_col=None,\n",
    "                             hist_log=True,\n",
    "                             export_points_data=True,\n",
    "                             export_summary_data=True,\n",
    "                             export_extent=True,\n",
    "                             export_figure=True)"
   ]
  },
  {
   "cell_type": "markdown",
   "metadata": {},
   "source": [
    "The histogram plot above shows the distribution of growing (e.g. prograding; blue bars) and retreating (e.g. eroding; red bars) coastlines in the selected region, with annual rates of change (in metres per year) on the x-axis.\n",
    "Note that by default the y-axis will be shown on a log scale which emphasises lower frequency results; for a linear y-axis, re-run the function above with `hist_log=False`.\n"
   ]
  },
  {
   "cell_type": "markdown",
   "metadata": {},
   "source": [
    "### Remove output files\n",
    "Run this cell to clean up your directory by removing any output files generated by this notebook and saved to the `deacoastlines_outputs` folder. \n",
    "\n",
    "> **Note:** This cannot be undone, so ensure any important outputs have been downloaded to your computor before proceeding.\n"
   ]
  },
  {
   "cell_type": "code",
   "execution_count": 9,
   "metadata": {},
   "outputs": [],
   "source": [
    "!rm -r deacoastlines_outputs"
   ]
  },
  {
   "cell_type": "markdown",
   "metadata": {},
   "source": [
    "## Next steps: coastline erosion notebook\n",
    "\n",
    "The [Coastal erosion notebook](../Real_world_examples/Coastal_erosion.ipynb) in this repository provides a simplified example of the method used to extract DEA Coastlines annual coastlines data. \n",
    "Run this notebook if you would like to generate more customised coastlines for a specific location, time period, epoch (e.g. annual or biennial coastlines) or tidal range (e.g. the posituion of the coastline at low, mid  or high tide).\n",
    "\n",
    "> **Note:** This notebook currently supports extracting coastline data only, not generating rates of change statistics like those included in the DEA Coastlines product."
   ]
  },
  {
   "cell_type": "markdown",
   "metadata": {},
   "source": [
    "---\n",
    "\n",
    "## Additional information\n",
    "\n",
    "**License:** The code in this notebook is licensed under the [Apache License, Version 2.0](https://www.apache.org/licenses/LICENSE-2.0). \n",
    "Digital Earth Australia data is licensed under the [Creative Commons by Attribution 4.0](https://creativecommons.org/licenses/by/4.0/) license.\n",
    "\n",
    "**Contact:** If you need assistance, please post a question on the [Open Data Cube Slack channel](http://slack.opendatacube.org/) or on the [GIS Stack Exchange](https://gis.stackexchange.com/questions/ask?tags=open-data-cube) using the `open-data-cube` tag (you can view previously asked questions [here](https://gis.stackexchange.com/questions/tagged/open-data-cube)).\n",
    "If you would like to report an issue with this notebook, you can file one on [Github](https://github.com/GeoscienceAustralia/dea-notebooks).\n",
    "\n",
    "**Last modified:** November 2020"
   ]
  },
  {
   "cell_type": "markdown",
   "metadata": {},
   "source": [
    "## Tags\n",
    "Browse all available tags on the DEA User Guide's [Tags Index](https://docs.dea.ga.gov.au/genindex.html)"
   ]
  },
  {
   "cell_type": "raw",
   "metadata": {
    "raw_mimetype": "text/restructuredtext"
   },
   "source": [
    "**Tags**: :index:`NCI compatible`, :index:`sandbox compatible`, :index:`DEA Coastlines`, :index:`coastal erosion`, :index:`widgets, :index:`ipyleaflet`, :index:`geopandas`, :index:`WFS`, :index:`dea datasets`, :index:`no_testing`"
   ]
  }
 ],
 "metadata": {
  "kernelspec": {
   "display_name": "Python 3",
   "language": "python",
   "name": "python3"
  },
  "language_info": {
   "codemirror_mode": {
    "name": "ipython",
    "version": 3
   },
   "file_extension": ".py",
   "mimetype": "text/x-python",
   "name": "python",
   "nbconvert_exporter": "python",
   "pygments_lexer": "ipython3",
   "version": "3.6.9"
  },
  "widgets": {
   "application/vnd.jupyter.widget-state+json": {
    "state": {
     "023738e6d86f4a22a3f9445ea439d9d2": {
      "model_module": "@jupyter-widgets/controls",
      "model_module_version": "1.5.0",
      "model_name": "ButtonStyleModel",
      "state": {
       "button_color": "green"
      }
     },
     "067e856036be40f3a26fac3539ca895a": {
      "model_module": "jupyter-leaflet",
      "model_module_version": "^0.13.0",
      "model_name": "LeafletZoomControlModel",
      "state": {
       "_model_module_version": "^0.13.0",
       "_view_module_version": "^0.13.0",
       "options": [
        "position",
        "zoom_in_text",
        "zoom_in_title",
        "zoom_out_text",
        "zoom_out_title"
       ]
      }
     },
     "130171cdfd244cf992f94b5ccf7e07d8": {
      "model_module": "jupyter-leaflet",
      "model_module_version": "^0.13.0",
      "model_name": "LeafletMapStyleModel",
      "state": {
       "_model_module_version": "^0.13.0"
      }
     },
     "2175ab2472bc41d08f2adcb43586102f": {
      "model_module": "jupyter-leaflet",
      "model_module_version": "^0.13.0",
      "model_name": "LeafletMapStyleModel",
      "state": {
       "_model_module_version": "^0.13.0",
       "cursor": "move"
      }
     },
     "23222ef6e24f480a90b8c0216cba6112": {
      "model_module": "@jupyter-widgets/base",
      "model_module_version": "1.2.0",
      "model_name": "LayoutModel",
      "state": {
       "flex": "1 0 20em",
       "height": "3em",
       "width": "20em"
      }
     },
     "3569e86daf484acfa8aa926c93c2c909": {
      "model_module": "@jupyter-widgets/controls",
      "model_module_version": "1.5.0",
      "model_name": "DescriptionStyleModel",
      "state": {
       "description_width": ""
      }
     },
     "3be9218d7a3c4bcaa35cd4b8e0573f55": {
      "model_module": "jupyter-leaflet",
      "model_module_version": "^0.13.0",
      "model_name": "LeafletMapStyleModel",
      "state": {
       "_model_module_version": "^0.13.0"
      }
     },
     "55d60838b3bb414abef84743ebaae330": {
      "model_module": "@jupyter-widgets/base",
      "model_module_version": "1.2.0",
      "model_name": "LayoutModel",
      "state": {
       "flex": "1 0 20em",
       "height": "3em",
       "width": "20em"
      }
     },
     "67c16bc1008d4a9daed4be51ebff76ac": {
      "model_module": "jupyter-leaflet",
      "model_module_version": "^0.13.0",
      "model_name": "LeafletMapModel",
      "state": {
       "_model_module_version": "^0.13.0",
       "_view_module_version": "^0.13.0",
       "center": [
        -29.364541808633696,
        153.3652621507645
       ],
       "controls": [
        "IPY_MODEL_067e856036be40f3a26fac3539ca895a",
        "IPY_MODEL_8769bcbad90d4d7cb697733288cba13b",
        "IPY_MODEL_c3a2348494ee46f78bb05ea4673cdd04"
       ],
       "default_style": "IPY_MODEL_73c8771e4d6549f6aeade992d4197788",
       "dragging_style": "IPY_MODEL_a9ee5e94645c4f978aaa008112bd57d3",
       "east": 153.37229490280154,
       "fullscreen": false,
       "interpolation": "bilinear",
       "layers": [
        "IPY_MODEL_6f246b2d43864eddbec48b7915507beb",
        "IPY_MODEL_88cf163f6e6c448aa5a1a7cc0602679f",
        "IPY_MODEL_b7f595adb86c47ffa6171002f9ac525e"
       ],
       "layout": "IPY_MODEL_baaf64115a5b4be587f7869d3b6d8a55",
       "modisdate": "yesterday",
       "north": -29.36173665965816,
       "options": [
        "bounce_at_zoom_limits",
        "box_zoom",
        "center",
        "close_popup_on_click",
        "double_click_zoom",
        "dragging",
        "fullscreen",
        "inertia",
        "inertia_deceleration",
        "inertia_max_speed",
        "interpolation",
        "keyboard",
        "keyboard_pan_offset",
        "keyboard_zoom_offset",
        "max_zoom",
        "min_zoom",
        "scroll_wheel_zoom",
        "tap",
        "tap_tolerance",
        "touch_zoom",
        "world_copy_jump",
        "zoom",
        "zoom_animation_threshold",
        "zoom_start"
       ],
       "scroll_wheel_zoom": true,
       "south": -29.367346880337582,
       "style": "IPY_MODEL_73c8771e4d6549f6aeade992d4197788",
       "west": 153.35822939872745,
       "window_url": "https://app.sandbox.dea.ga.gov.au/user/alger/lab?",
       "zoom": 17
      }
     },
     "6aa4515f5ea54014b125f9f065c58085": {
      "model_module": "@jupyter-widgets/controls",
      "model_module_version": "1.5.0",
      "model_name": "ButtonModel",
      "state": {
       "description": "done",
       "disabled": true,
       "layout": "IPY_MODEL_713e11696807437fbd0b44fe71e5380a",
       "style": "IPY_MODEL_a3b55c9f56264446872e5e55e9858b8c"
      }
     },
     "6f246b2d43864eddbec48b7915507beb": {
      "model_module": "jupyter-leaflet",
      "model_module_version": "^0.13.0",
      "model_name": "LeafletTileLayerModel",
      "state": {
       "_model_module_version": "^0.13.0",
       "_view_module_version": "^0.13.0",
       "attribution": "Tiles &copy; Esri &mdash; Source: Esri, i-cubed, USDA, USGS, AEX, GeoEye, Getmapping, Aerogrid, IGN, IGP, UPR-EGP, and the GIS User Community",
       "max_native_zoom": 18,
       "max_zoom": 20,
       "min_native_zoom": 0,
       "min_zoom": 1,
       "name": "Esri.WorldImagery",
       "options": [
        "attribution",
        "detect_retina",
        "max_native_zoom",
        "max_zoom",
        "min_native_zoom",
        "min_zoom",
        "no_wrap",
        "tile_size",
        "tms"
       ],
       "url": "http://server.arcgisonline.com/ArcGIS/rest/services/World_Imagery/MapServer/tile/{z}/{y}/{x}"
      }
     },
     "713e11696807437fbd0b44fe71e5380a": {
      "model_module": "@jupyter-widgets/base",
      "model_module_version": "1.2.0",
      "model_name": "LayoutModel",
      "state": {
       "width": "5em"
      }
     },
     "73c8771e4d6549f6aeade992d4197788": {
      "model_module": "jupyter-leaflet",
      "model_module_version": "^0.13.0",
      "model_name": "LeafletMapStyleModel",
      "state": {
       "_model_module_version": "^0.13.0"
      }
     },
     "787ee823cdad4497bc483e72dcc0e823": {
      "model_module": "jupyter-leaflet",
      "model_module_version": "^0.13.0",
      "model_name": "LeafletFullScreenControlModel",
      "state": {
       "_model_module_version": "^0.13.0",
       "_view_module_version": "^0.13.0",
       "options": [
        "position"
       ]
      }
     },
     "806554ea3cb84e7cb05c533d4754df3d": {
      "model_module": "@jupyter-widgets/controls",
      "model_module_version": "1.5.0",
      "model_name": "DescriptionStyleModel",
      "state": {
       "description_width": ""
      }
     },
     "8769bcbad90d4d7cb697733288cba13b": {
      "model_module": "jupyter-leaflet",
      "model_module_version": "^0.13.0",
      "model_name": "LeafletAttributionControlModel",
      "state": {
       "_model_module_version": "^0.13.0",
       "_view_module_version": "^0.13.0",
       "options": [
        "position",
        "prefix"
       ],
       "position": "bottomright",
       "prefix": "Leaflet"
      }
     },
     "88cf163f6e6c448aa5a1a7cc0602679f": {
      "model_module": "jupyter-leaflet",
      "model_module_version": "^0.13.0",
      "model_name": "LeafletWMSLayerModel",
      "state": {
       "_model_module_version": "^0.13.0",
       "_view_module_version": "^0.13.0",
       "attribution": "DEA CoastLines © 2020 Geoscience Australia",
       "crs": {
        "custom": false,
        "name": "EPSG3857"
       },
       "format": "image/png",
       "layers": "dea:DEACoastLines",
       "max_native_zoom": 18,
       "min_native_zoom": 0,
       "options": [
        "attribution",
        "detect_retina",
        "format",
        "layers",
        "max_native_zoom",
        "max_zoom",
        "min_native_zoom",
        "min_zoom",
        "no_wrap",
        "styles",
        "tile_size",
        "tms",
        "transparent",
        "uppercase"
       ],
       "transparent": true,
       "url": "https://geoserver.dea.ga.gov.au/geoserver/wms"
      }
     },
     "9df2ed3816514e2da6605457d88a5dd3": {
      "model_module": "jupyter-leaflet",
      "model_module_version": "^0.13.0",
      "model_name": "LeafletWidgetControlModel",
      "state": {
       "_model_module": "jupyter-leaflet",
       "_model_module_version": "^0.13.0",
       "_view_count": null,
       "_view_module": "jupyter-leaflet",
       "_view_module_version": "^0.13.0",
       "options": [
        "position"
       ],
       "position": "topright",
       "widget": "IPY_MODEL_f6e4ba0eb2a5494b95f053f23cd9574b"
      }
     },
     "a0dddbd8c1864adbbf3b056844941420": {
      "model_module": "jupyter-leaflet",
      "model_module_version": "^0.13.0",
      "model_name": "LeafletMapStyleModel",
      "state": {
       "_model_module_version": "^0.13.0"
      }
     },
     "a39064168a1345b38a47cac175d2d3d5": {
      "model_module": "@jupyter-widgets/controls",
      "model_module_version": "1.5.0",
      "model_name": "HTMLModel",
      "state": {
       "layout": "IPY_MODEL_23222ef6e24f480a90b8c0216cba6112",
       "style": "IPY_MODEL_806554ea3cb84e7cb05c533d4754df3d",
       "value": "<pre style=\"color:grey\">lat: [-33.6238, -27.9653]\nlon: [143.6133, 158.0164]</pre>"
      }
     },
     "a3b55c9f56264446872e5e55e9858b8c": {
      "model_module": "@jupyter-widgets/controls",
      "model_module_version": "1.5.0",
      "model_name": "ButtonStyleModel",
      "state": {
       "button_color": "green"
      }
     },
     "a734bc6410ab4fcca873a584894d401c": {
      "model_module": "jupyter-leaflet",
      "model_module_version": "^0.13.0",
      "model_name": "LeafletDrawControlModel",
      "state": {
       "_model_module_version": "^0.13.0",
       "_view_module_version": "^0.13.0",
       "options": [
        "position"
       ],
       "polygon": {},
       "polyline": {
        "shapeOptions": {
         "color": "red",
         "opacity": 1
        }
       }
      }
     },
     "a9ee5e94645c4f978aaa008112bd57d3": {
      "model_module": "jupyter-leaflet",
      "model_module_version": "^0.13.0",
      "model_name": "LeafletMapStyleModel",
      "state": {
       "_model_module_version": "^0.13.0",
       "cursor": "move"
      }
     },
     "aa124a64e987494da2434edb2134abf1": {
      "model_module": "@jupyter-widgets/controls",
      "model_module_version": "1.5.0",
      "model_name": "HTMLModel",
      "state": {
       "layout": "IPY_MODEL_55d60838b3bb414abef84743ebaae330",
       "style": "IPY_MODEL_3569e86daf484acfa8aa926c93c2c909",
       "value": "<pre style=\"color:grey\">lat: [-29.3673, -29.3617]\nlon: [153.3582, 153.3723]</pre>"
      }
     },
     "acdc98098a0845a0b38a1ca7f6901efc": {
      "model_module": "jupyter-leaflet",
      "model_module_version": "^0.13.0",
      "model_name": "LeafletWidgetControlModel",
      "state": {
       "_model_module": "jupyter-leaflet",
       "_model_module_version": "^0.13.0",
       "_view_count": null,
       "_view_module": "jupyter-leaflet",
       "_view_module_version": "^0.13.0",
       "options": [
        "position"
       ],
       "position": "topright",
       "widget": "IPY_MODEL_6aa4515f5ea54014b125f9f065c58085"
      }
     },
     "b7f595adb86c47ffa6171002f9ac525e": {
      "model_module": "jupyter-leaflet",
      "model_module_version": "^0.13.0",
      "model_name": "LeafletTileLayerModel",
      "state": {
       "_model_module_version": "^0.13.0",
       "_view_module_version": "^0.13.0",
       "max_native_zoom": 18,
       "min_native_zoom": 0,
       "options": [
        "attribution",
        "detect_retina",
        "max_native_zoom",
        "max_zoom",
        "min_native_zoom",
        "min_zoom",
        "no_wrap",
        "tile_size",
        "tms"
       ],
       "url": "https://server.arcgisonline.com/ArcGIS/rest/services/Reference/World_Boundaries_and_Places/MapServer/tile/{z}/{y}/{x}"
      }
     },
     "baaf64115a5b4be587f7869d3b6d8a55": {
      "model_module": "@jupyter-widgets/base",
      "model_module_version": "1.2.0",
      "model_name": "LayoutModel",
      "state": {
       "height": "600px"
      }
     },
     "c3a2348494ee46f78bb05ea4673cdd04": {
      "model_module": "jupyter-leaflet",
      "model_module_version": "^0.13.0",
      "model_name": "LeafletFullScreenControlModel",
      "state": {
       "_model_module_version": "^0.13.0",
       "_view_module_version": "^0.13.0",
       "options": [
        "position"
       ]
      }
     },
     "c581fb6d243f47a2a7a925ca1498c7eb": {
      "model_module": "jupyter-leaflet",
      "model_module_version": "^0.13.0",
      "model_name": "LeafletTileLayerModel",
      "state": {
       "_model_module_version": "^0.13.0",
       "_view_module_version": "^0.13.0",
       "attribution": "Tiles &copy; Esri &mdash; Source: Esri, i-cubed, USDA, USGS, AEX, GeoEye, Getmapping, Aerogrid, IGN, IGP, UPR-EGP, and the GIS User Community",
       "max_native_zoom": 18,
       "max_zoom": 20,
       "min_native_zoom": 0,
       "min_zoom": 1,
       "name": "Esri.WorldImagery",
       "options": [
        "attribution",
        "detect_retina",
        "max_native_zoom",
        "max_zoom",
        "min_native_zoom",
        "min_zoom",
        "no_wrap",
        "tile_size",
        "tms"
       ],
       "url": "http://server.arcgisonline.com/ArcGIS/rest/services/World_Imagery/MapServer/tile/{z}/{y}/{x}"
      }
     },
     "da3515ca6d5c4a5b9bb2e38f96861b48": {
      "model_module": "@jupyter-widgets/base",
      "model_module_version": "1.2.0",
      "model_name": "LayoutModel",
      "state": {
       "width": "5em"
      }
     },
     "ddee9777c7d04d8a8693f702e3fb5cdb": {
      "model_module": "jupyter-leaflet",
      "model_module_version": "^0.13.0",
      "model_name": "LeafletDrawControlModel",
      "state": {
       "_model_module_version": "^0.13.0",
       "_view_module_version": "^0.13.0",
       "options": [
        "position"
       ],
       "polygon": {
        "shapeOptions": {
         "color": "#000000",
         "editing": {
          "color": "#000000",
          "fillColor": "#fca45d",
          "fillOpacity": 0.1
         },
         "fillColor": "#fca45d",
         "fillOpacity": 0.1,
         "original": {
          "color": "#000000",
          "fillColor": "#fca45d",
          "fillOpacity": 0.1
         }
        }
       },
       "polyline": {},
       "rectangle": {
        "metric": [
         "km",
         "m"
        ],
        "shapeOptions": {
         "color": "#000000",
         "fillColor": "#fca45d",
         "fillOpacity": 0.1
        }
       }
      }
     },
     "de803cd3caf1445b877c10028cf7e925": {
      "model_module": "jupyter-leaflet",
      "model_module_version": "^0.13.0",
      "model_name": "LeafletAttributionControlModel",
      "state": {
       "_model_module_version": "^0.13.0",
       "_view_module_version": "^0.13.0",
       "options": [
        "position",
        "prefix"
       ],
       "position": "bottomright",
       "prefix": "Leaflet"
      }
     },
     "e19ca3d6719f466fa111ce1866165a61": {
      "model_module": "jupyter-leaflet",
      "model_module_version": "^0.13.0",
      "model_name": "LeafletZoomControlModel",
      "state": {
       "_model_module_version": "^0.13.0",
       "_view_module_version": "^0.13.0",
       "options": [
        "position",
        "zoom_in_text",
        "zoom_in_title",
        "zoom_out_text",
        "zoom_out_title"
       ]
      }
     },
     "e2c5e04dac2b45d5a4c2892b40555ab3": {
      "model_module": "jupyter-leaflet",
      "model_module_version": "^0.13.0",
      "model_name": "LeafletTileLayerModel",
      "state": {
       "_model_module_version": "^0.13.0",
       "_view_module_version": "^0.13.0",
       "max_native_zoom": 18,
       "min_native_zoom": 0,
       "options": [
        "attribution",
        "detect_retina",
        "max_native_zoom",
        "max_zoom",
        "min_native_zoom",
        "min_zoom",
        "no_wrap",
        "tile_size",
        "tms"
       ],
       "url": "https://server.arcgisonline.com/ArcGIS/rest/services/Reference/World_Boundaries_and_Places/MapServer/tile/{z}/{y}/{x}"
      }
     },
     "e98d86484b5d4b04820ff5dffaeb093e": {
      "model_module": "jupyter-leaflet",
      "model_module_version": "^0.13.0",
      "model_name": "LeafletMapModel",
      "state": {
       "_model_module_version": "^0.13.0",
       "_view_module_version": "^0.13.0",
       "center": [
        -30.83621462606483,
        150.81481933593753
       ],
       "controls": [
        "IPY_MODEL_e19ca3d6719f466fa111ce1866165a61",
        "IPY_MODEL_de803cd3caf1445b877c10028cf7e925",
        "IPY_MODEL_787ee823cdad4497bc483e72dcc0e823"
       ],
       "default_style": "IPY_MODEL_a0dddbd8c1864adbbf3b056844941420",
       "dragging_style": "IPY_MODEL_2175ab2472bc41d08f2adcb43586102f",
       "east": 158.01635742187503,
       "fullscreen": false,
       "interpolation": "bilinear",
       "layers": [
        "IPY_MODEL_c581fb6d243f47a2a7a925ca1498c7eb",
        "IPY_MODEL_ef83737d4d30424daa2ba0730a95d31f",
        "IPY_MODEL_e2c5e04dac2b45d5a4c2892b40555ab3"
       ],
       "layout": "IPY_MODEL_f8bc798ba6e44c81b490f2d77a1df79e",
       "modisdate": "yesterday",
       "north": -27.965294915211118,
       "options": [
        "bounce_at_zoom_limits",
        "box_zoom",
        "center",
        "close_popup_on_click",
        "double_click_zoom",
        "dragging",
        "fullscreen",
        "inertia",
        "inertia_deceleration",
        "inertia_max_speed",
        "interpolation",
        "keyboard",
        "keyboard_pan_offset",
        "keyboard_zoom_offset",
        "max_zoom",
        "min_zoom",
        "scroll_wheel_zoom",
        "tap",
        "tap_tolerance",
        "touch_zoom",
        "world_copy_jump",
        "zoom",
        "zoom_animation_threshold",
        "zoom_start"
       ],
       "scroll_wheel_zoom": true,
       "south": -33.623768001188125,
       "style": "IPY_MODEL_a0dddbd8c1864adbbf3b056844941420",
       "west": 143.61328125000003,
       "window_url": "https://app.sandbox.dea.ga.gov.au/user/alger/lab?",
       "zoom": 7
      }
     },
     "ef83737d4d30424daa2ba0730a95d31f": {
      "model_module": "jupyter-leaflet",
      "model_module_version": "^0.13.0",
      "model_name": "LeafletWMSLayerModel",
      "state": {
       "_model_module_version": "^0.13.0",
       "_view_module_version": "^0.13.0",
       "attribution": "DEA CoastLines © 2020 Geoscience Australia",
       "crs": {
        "custom": false,
        "name": "EPSG3857"
       },
       "format": "image/png",
       "layers": "dea:DEACoastLines",
       "max_native_zoom": 18,
       "min_native_zoom": 0,
       "options": [
        "attribution",
        "detect_retina",
        "format",
        "layers",
        "max_native_zoom",
        "max_zoom",
        "min_native_zoom",
        "min_zoom",
        "no_wrap",
        "styles",
        "tile_size",
        "tms",
        "transparent",
        "uppercase"
       ],
       "transparent": true,
       "url": "https://geoserver.dea.ga.gov.au/geoserver/wms"
      }
     },
     "f33a45b371574cf4902e8ccc4a4af9ec": {
      "model_module": "jupyter-leaflet",
      "model_module_version": "^0.13.0",
      "model_name": "LeafletWidgetControlModel",
      "state": {
       "_model_module": "jupyter-leaflet",
       "_model_module_version": "^0.13.0",
       "_view_count": null,
       "_view_module": "jupyter-leaflet",
       "_view_module_version": "^0.13.0",
       "options": [
        "position"
       ],
       "position": "bottomleft",
       "widget": "IPY_MODEL_aa124a64e987494da2434edb2134abf1"
      }
     },
     "f6e4ba0eb2a5494b95f053f23cd9574b": {
      "model_module": "@jupyter-widgets/controls",
      "model_module_version": "1.5.0",
      "model_name": "ButtonModel",
      "state": {
       "description": "done",
       "disabled": true,
       "layout": "IPY_MODEL_da3515ca6d5c4a5b9bb2e38f96861b48",
       "style": "IPY_MODEL_023738e6d86f4a22a3f9445ea439d9d2"
      }
     },
     "f831128fed6b4a99a236f80d06e42ec9": {
      "model_module": "jupyter-leaflet",
      "model_module_version": "^0.13.0",
      "model_name": "LeafletWidgetControlModel",
      "state": {
       "_model_module": "jupyter-leaflet",
       "_model_module_version": "^0.13.0",
       "_view_count": null,
       "_view_module": "jupyter-leaflet",
       "_view_module_version": "^0.13.0",
       "options": [
        "position"
       ],
       "position": "bottomleft",
       "widget": "IPY_MODEL_a39064168a1345b38a47cac175d2d3d5"
      }
     },
     "f8bc798ba6e44c81b490f2d77a1df79e": {
      "model_module": "@jupyter-widgets/base",
      "model_module_version": "1.2.0",
      "model_name": "LayoutModel",
      "state": {
       "height": "600px"
      }
     }
    },
    "version_major": 2,
    "version_minor": 0
   }
  }
 },
 "nbformat": 4,
 "nbformat_minor": 4
}
